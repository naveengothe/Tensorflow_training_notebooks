{
  "nbformat": 4,
  "nbformat_minor": 0,
  "metadata": {
    "colab": {
      "provenance": [],
      "gpuType": "T4"
    },
    "kernelspec": {
      "name": "python3",
      "display_name": "Python 3"
    },
    "language_info": {
      "name": "python"
    },
    "accelerator": "GPU"
  },
  "cells": [
    {
      "cell_type": "code",
      "execution_count": null,
      "metadata": {
        "id": "aQQRrOlofPgi"
      },
      "outputs": [],
      "source": [
        "import torch\n",
        "import torch.nn as nn\n",
        "import torch.nn.functional as F\n",
        "import torch.optim as optim\n",
        "\n",
        "# Sample model with dropout\n",
        "class Net(nn.Module):\n",
        "    def __init__(self):\n",
        "        super(Net, self).__init__()\n",
        "        self.fc1 = nn.Linear(784, 500)\n",
        "        self.fc2 = nn.Linear(500, 10)\n",
        "        self.dropout = nn.Dropout(0.5)\n",
        "\n",
        "    def forward(self, x):\n",
        "        x = F.relu(self.fc1(x))\n",
        "        x = self.dropout(x)\n",
        "        x = self.fc2(x)\n",
        "        return x\n"
      ]
    },
    {
      "cell_type": "code",
      "source": [
        "# Generating random sample data: 5 samples with 784 features each\n",
        "input_data = torch.randn(5, 784)\n"
      ],
      "metadata": {
        "id": "MpvlyZi-fXz6"
      },
      "execution_count": null,
      "outputs": []
    },
    {
      "cell_type": "code",
      "source": [
        "model = Net()\n",
        "model.train()  # Ensure the model is in training mode\n",
        "\n",
        "features_after_dropout = F.relu(model.fc1(input_data))\n",
        "features_after_dropout = model.dropout(features_after_dropout)\n",
        "print(\"Features after dropout during training:\")\n",
        "print(features_after_dropout)\n",
        "print(features_after_dropout.shape)\n"
      ],
      "metadata": {
        "colab": {
          "base_uri": "https://localhost:8080/"
        },
        "id": "A4WnETBVfaD4",
        "outputId": "e5a914f7-ca2c-47fe-9b70-325db3e6f9d9"
      },
      "execution_count": null,
      "outputs": [
        {
          "output_type": "stream",
          "name": "stdout",
          "text": [
            "Features after dropout during training:\n",
            "tensor([[0.0000, 0.0000, 0.0000,  ..., 0.0000, 0.0000, 0.0000],\n",
            "        [1.9237, 0.0000, 0.0000,  ..., 1.3639, 0.0000, 0.0000],\n",
            "        [0.0000, 0.0000, 1.2972,  ..., 0.0000, 0.3022, 0.0000],\n",
            "        [0.0000, 0.0000, 0.0000,  ..., 0.0000, 1.4781, 0.0000],\n",
            "        [0.9912, 0.0000, 0.0000,  ..., 0.0000, 1.8814, 0.0000]],\n",
            "       grad_fn=<MulBackward0>)\n",
            "torch.Size([5, 500])\n"
          ]
        }
      ]
    },
    {
      "cell_type": "code",
      "source": [
        "model.eval()  # Ensure the model is in eval mode\n",
        "\n",
        "features_without_dropout = F.relu(model.fc1(input_data))\n",
        "print(\"\\nFeatures without dropout during inference:\")\n",
        "print(features_without_dropout)\n",
        "print(features_without_dropout.shape)"
      ],
      "metadata": {
        "colab": {
          "base_uri": "https://localhost:8080/"
        },
        "id": "yGsDEzaafoP8",
        "outputId": "77d0313e-cb1e-4fa5-c96c-d5acce489f01"
      },
      "execution_count": null,
      "outputs": [
        {
          "output_type": "stream",
          "name": "stdout",
          "text": [
            "\n",
            "Features without dropout during inference:\n",
            "tensor([[0.5827, 0.0000, 0.0000,  ..., 0.0160, 0.0000, 0.0000],\n",
            "        [0.9619, 0.0000, 0.0000,  ..., 0.6820, 0.0000, 0.0000],\n",
            "        [0.0000, 0.0186, 0.6486,  ..., 0.0000, 0.1511, 0.0000],\n",
            "        [0.0000, 0.0000, 0.0000,  ..., 0.0000, 0.7390, 0.0000],\n",
            "        [0.4956, 0.8977, 0.0000,  ..., 0.0000, 0.9407, 0.4167]],\n",
            "       grad_fn=<ReluBackward0>)\n",
            "torch.Size([5, 500])\n"
          ]
        }
      ]
    },
    {
      "cell_type": "code",
      "source": [],
      "metadata": {
        "id": "sUXOaqDBgpvX"
      },
      "execution_count": null,
      "outputs": []
    },
    {
      "cell_type": "markdown",
      "source": [],
      "metadata": {
        "id": "W_bSGHoKgqUR"
      }
    },
    {
      "cell_type": "code",
      "source": [
        "import torch\n",
        "import torch.nn as nn\n",
        "import torch.nn.functional as F\n",
        "\n",
        "# Sample model with dropout\n",
        "class Net(nn.Module):\n",
        "    def __init__(self):\n",
        "        super(Net, self).__init__()\n",
        "        self.fc1 = nn.Linear(784, 500)\n",
        "        self.fc2 = nn.Linear(500, 10)\n",
        "        self.dropout = nn.Dropout(0.5)\n",
        "\n",
        "    def forward(self, x):\n",
        "        x = F.relu(self.fc1(x))\n",
        "        x = self.dropout(x)\n",
        "        x = self.fc2(x)\n",
        "        return x\n"
      ],
      "metadata": {
        "id": "qV7bvKaRgq1f"
      },
      "execution_count": null,
      "outputs": []
    },
    {
      "cell_type": "code",
      "source": [
        "# Generating random sample data: 5 samples with 784 features each\n",
        "input_data = torch.randn(5, 784)\n"
      ],
      "metadata": {
        "id": "dhVV-CrZguQU"
      },
      "execution_count": null,
      "outputs": []
    },
    {
      "cell_type": "code",
      "source": [
        "model = Net()\n",
        "model.train()  # Ensure the model is in training mode\n",
        "\n",
        "# Get features before and after dropout\n",
        "features_before_dropout = F.relu(model.fc1(input_data))\n",
        "features_after_dropout = model.dropout(features_before_dropout)\n",
        "\n",
        "# Identifying dropped features\n",
        "dropped_features = features_before_dropout - features_after_dropout\n",
        "dropped_indices = (dropped_features != 0).nonzero(as_tuple=True)\n",
        "\n",
        "print(\"Indices of dropped features:\")\n",
        "print(dropped_indices)\n"
      ],
      "metadata": {
        "colab": {
          "base_uri": "https://localhost:8080/"
        },
        "id": "i2wW-Cd8gxo7",
        "outputId": "be033a01-342c-4a7c-845a-1556ec0d3345"
      },
      "execution_count": null,
      "outputs": [
        {
          "output_type": "stream",
          "name": "stdout",
          "text": [
            "Indices of dropped features:\n",
            "(tensor([0, 0, 0,  ..., 4, 4, 4]), tensor([  1,   2,   8,  ..., 495, 497, 499]))\n"
          ]
        }
      ]
    },
    {
      "cell_type": "code",
      "source": [
        "import numpy as np\n",
        "import tensorflow as tf\n",
        "from tensorflow import keras\n",
        "\n",
        "# 1. Sample Data\n",
        "input_data = np.random.randn(1000, 784)\n",
        "labels = np.random.randint(10, size=(1000,))\n",
        "\n",
        "# 2. Custom Dropout Layer\n",
        "class CustomDropout(keras.layers.Dropout):\n",
        "    def call(self, inputs, training=None):\n",
        "        if training:\n",
        "            binary_dropout_mask = tf.nn.dropout(\n",
        "                tf.ones_like(inputs), rate=self.rate)\n",
        "            dropped_indices = tf.where(binary_dropout_mask == 0)\n",
        "            tf.print(f\"Dropped Indices: {dropped_indices}\")\n",
        "            return inputs * binary_dropout_mask\n",
        "        return inputs\n",
        "\n",
        "# 3. Define the Model Using CustomDropout\n",
        "model = keras.Sequential([\n",
        "    keras.layers.Dense(500, activation='relu', input_shape=(784,)),\n",
        "    CustomDropout(0.5),\n",
        "    keras.layers.Dense(10, activation='softmax')\n",
        "])\n",
        "\n",
        "model.compile(optimizer='adam', loss='sparse_categorical_crossentropy')\n",
        "\n",
        "# 4. Train the Model\n",
        "model.fit(input_data, labels, epochs=5, batch_size=32)\n"
      ],
      "metadata": {
        "colab": {
          "base_uri": "https://localhost:8080/"
        },
        "id": "Ha3fcBUQmP0v",
        "outputId": "3d7a334a-9aea-46c9-d01f-53344e3e44a0"
      },
      "execution_count": null,
      "outputs": [
        {
          "output_type": "stream",
          "name": "stdout",
          "text": [
            "Epoch 1/5\n",
            "Dropped Indices: Tensor(\"sequential_2/custom_dropout/Where:0\", shape=(None, 2), dtype=int64)\n",
            " 1/32 [..............................] - ETA: 58s - loss: 3.1112Dropped Indices: Tensor(\"sequential_2/custom_dropout/Where:0\", shape=(None, 2), dtype=int64)\n",
            "Dropped Indices: Tensor(\"sequential_2/custom_dropout/Where:0\", shape=(None, 2), dtype=int64)\n",
            "Dropped Indices: Tensor(\"sequential_2/custom_dropout/Where:0\", shape=(None, 2), dtype=int64)\n",
            "Dropped Indices: Tensor(\"sequential_2/custom_dropout/Where:0\", shape=(None, 2), dtype=int64)\n",
            " 5/32 [===>..........................] - ETA: 0s - loss: 3.1462 Dropped Indices: Tensor(\"sequential_2/custom_dropout/Where:0\", shape=(None, 2), dtype=int64)\n",
            "Dropped Indices: Tensor(\"sequential_2/custom_dropout/Where:0\", shape=(None, 2), dtype=int64)\n",
            "Dropped Indices: Tensor(\"sequential_2/custom_dropout/Where:0\", shape=(None, 2), dtype=int64)\n",
            "Dropped Indices: Tensor(\"sequential_2/custom_dropout/Where:0\", shape=(None, 2), dtype=int64)\n",
            "Dropped Indices: Tensor(\"sequential_2/custom_dropout/Where:0\", shape=(None, 2), dtype=int64)\n",
            "Dropped Indices: Tensor(\"sequential_2/custom_dropout/Where:0\", shape=(None, 2), dtype=int64)\n",
            "Dropped Indices: Tensor(\"sequential_2/custom_dropout/Where:0\", shape=(None, 2), dtype=int64)\n",
            "12/32 [==========>...................] - ETA: 0s - loss: 3.2053Dropped Indices: Tensor(\"sequential_2/custom_dropout/Where:0\", shape=(None, 2), dtype=int64)\n",
            "Dropped Indices: Tensor(\"sequential_2/custom_dropout/Where:0\", shape=(None, 2), dtype=int64)\n",
            "Dropped Indices: Tensor(\"sequential_2/custom_dropout/Where:0\", shape=(None, 2), dtype=int64)\n",
            "Dropped Indices: Tensor(\"sequential_2/custom_dropout/Where:0\", shape=(None, 2), dtype=int64)\n",
            "Dropped Indices: Tensor(\"sequential_2/custom_dropout/Where:0\", shape=(None, 2), dtype=int64)\n",
            "Dropped Indices: Tensor(\"sequential_2/custom_dropout/Where:0\", shape=(None, 2), dtype=int64)\n",
            "Dropped Indices: Tensor(\"sequential_2/custom_dropout/Where:0\", shape=(None, 2), dtype=int64)\n",
            "Dropped Indices: Tensor(\"sequential_2/custom_dropout/Where:0\", shape=(None, 2), dtype=int64)\n",
            "20/32 [=================>............] - ETA: 0s - loss: 3.1305Dropped Indices: Tensor(\"sequential_2/custom_dropout/Where:0\", shape=(None, 2), dtype=int64)\n",
            "Dropped Indices: Tensor(\"sequential_2/custom_dropout/Where:0\", shape=(None, 2), dtype=int64)\n",
            "Dropped Indices: Tensor(\"sequential_2/custom_dropout/Where:0\", shape=(None, 2), dtype=int64)\n",
            "Dropped Indices: Tensor(\"sequential_2/custom_dropout/Where:0\", shape=(None, 2), dtype=int64)\n",
            "Dropped Indices: Tensor(\"sequential_2/custom_dropout/Where:0\", shape=(None, 2), dtype=int64)\n",
            "25/32 [======================>.......] - ETA: 0s - loss: 3.1543Dropped Indices: Tensor(\"sequential_2/custom_dropout/Where:0\", shape=(None, 2), dtype=int64)\n",
            "Dropped Indices: Tensor(\"sequential_2/custom_dropout/Where:0\", shape=(None, 2), dtype=int64)\n",
            "Dropped Indices: Tensor(\"sequential_2/custom_dropout/Where:0\", shape=(None, 2), dtype=int64)\n",
            "Dropped Indices: Tensor(\"sequential_2/custom_dropout/Where:0\", shape=(None, 2), dtype=int64)\n",
            "Dropped Indices: Tensor(\"sequential_2/custom_dropout/Where:0\", shape=(None, 2), dtype=int64)\n",
            "30/32 [===========================>..] - ETA: 0s - loss: 3.1502Dropped Indices: Tensor(\"sequential_2/custom_dropout/Where:0\", shape=(None, 2), dtype=int64)\n",
            "Dropped Indices: Tensor(\"sequential_2/custom_dropout/Where:0\", shape=(None, 2), dtype=int64)\n",
            "32/32 [==============================] - 2s 10ms/step - loss: 3.1524\n",
            "Epoch 2/5\n",
            "Dropped Indices: Tensor(\"sequential_2/custom_dropout/Where:0\", shape=(None, 2), dtype=int64)\n",
            " 1/32 [..............................] - ETA: 0s - loss: 1.3196Dropped Indices: Tensor(\"sequential_2/custom_dropout/Where:0\", shape=(None, 2), dtype=int64)\n",
            "Dropped Indices: Tensor(\"sequential_2/custom_dropout/Where:0\", shape=(None, 2), dtype=int64)\n",
            "Dropped Indices: Tensor(\"sequential_2/custom_dropout/Where:0\", shape=(None, 2), dtype=int64)\n",
            "Dropped Indices: Tensor(\"sequential_2/custom_dropout/Where:0\", shape=(None, 2), dtype=int64)\n",
            "Dropped Indices: Tensor(\"sequential_2/custom_dropout/Where:0\", shape=(None, 2), dtype=int64)\n",
            "Dropped Indices: Tensor(\"sequential_2/custom_dropout/Where:0\", shape=(None, 2), dtype=int64)\n",
            "Dropped Indices: Tensor(\"sequential_2/custom_dropout/Where:0\", shape=(None, 2), dtype=int64)\n",
            "Dropped Indices: Tensor(\"sequential_2/custom_dropout/Where:0\", shape=(None, 2), dtype=int64)\n",
            "Dropped Indices: Tensor(\"sequential_2/custom_dropout/Where:0\", shape=(None, 2), dtype=int64)\n",
            "Dropped Indices: Tensor(\"sequential_2/custom_dropout/Where:0\", shape=(None, 2), dtype=int64)\n",
            "11/32 [=========>....................] - ETA: 0s - loss: 1.3800Dropped Indices: Tensor(\"sequential_2/custom_dropout/Where:0\", shape=(None, 2), dtype=int64)\n",
            "Dropped Indices: Tensor(\"sequential_2/custom_dropout/Where:0\", shape=(None, 2), dtype=int64)\n",
            "Dropped Indices: Tensor(\"sequential_2/custom_dropout/Where:0\", shape=(None, 2), dtype=int64)\n",
            "Dropped Indices: Tensor(\"sequential_2/custom_dropout/Where:0\", shape=(None, 2), dtype=int64)\n",
            "Dropped Indices: Tensor(\"sequential_2/custom_dropout/Where:0\", shape=(None, 2), dtype=int64)\n",
            "Dropped Indices: Tensor(\"sequential_2/custom_dropout/Where:0\", shape=(None, 2), dtype=int64)\n",
            "Dropped Indices: Tensor(\"sequential_2/custom_dropout/Where:0\", shape=(None, 2), dtype=int64)\n",
            "Dropped Indices: Tensor(\"sequential_2/custom_dropout/Where:0\", shape=(None, 2), dtype=int64)\n",
            "Dropped Indices: Tensor(\"sequential_2/custom_dropout/Where:0\", shape=(None, 2), dtype=int64)\n",
            "20/32 [=================>............] - ETA: 0s - loss: 1.3889Dropped Indices: Tensor(\"sequential_2/custom_dropout/Where:0\", shape=(None, 2), dtype=int64)\n",
            "Dropped Indices: Tensor(\"sequential_2/custom_dropout/Where:0\", shape=(None, 2), dtype=int64)\n",
            "Dropped Indices: Tensor(\"sequential_2/custom_dropout/Where:0\", shape=(None, 2), dtype=int64)\n",
            "Dropped Indices: Tensor(\"sequential_2/custom_dropout/Where:0\", shape=(None, 2), dtype=int64)\n",
            "Dropped Indices: Tensor(\"sequential_2/custom_dropout/Where:0\", shape=(None, 2), dtype=int64)\n",
            "Dropped Indices: Tensor(\"sequential_2/custom_dropout/Where:0\", shape=(None, 2), dtype=int64)\n",
            "Dropped Indices: Tensor(\"sequential_2/custom_dropout/Where:0\", shape=(None, 2), dtype=int64)\n",
            "Dropped Indices: Tensor(\"sequential_2/custom_dropout/Where:0\", shape=(None, 2), dtype=int64)\n",
            "Dropped Indices: Tensor(\"sequential_2/custom_dropout/Where:0\", shape=(None, 2), dtype=int64)\n",
            "29/32 [==========================>...] - ETA: 0s - loss: 1.4028Dropped Indices: Tensor(\"sequential_2/custom_dropout/Where:0\", shape=(None, 2), dtype=int64)\n",
            "Dropped Indices: Tensor(\"sequential_2/custom_dropout/Where:0\", shape=(None, 2), dtype=int64)\n",
            "Dropped Indices: Tensor(\"sequential_2/custom_dropout/Where:0\", shape=(None, 2), dtype=int64)\n",
            "32/32 [==============================] - 0s 7ms/step - loss: 1.3945\n",
            "Epoch 3/5\n",
            "Dropped Indices: Tensor(\"sequential_2/custom_dropout/Where:0\", shape=(None, 2), dtype=int64)\n",
            " 1/32 [..............................] - ETA: 0s - loss: 1.0780Dropped Indices: Tensor(\"sequential_2/custom_dropout/Where:0\", shape=(None, 2), dtype=int64)\n",
            "Dropped Indices: Tensor(\"sequential_2/custom_dropout/Where:0\", shape=(None, 2), dtype=int64)\n",
            "Dropped Indices: Tensor(\"sequential_2/custom_dropout/Where:0\", shape=(None, 2), dtype=int64)\n",
            "Dropped Indices: Tensor(\"sequential_2/custom_dropout/Where:0\", shape=(None, 2), dtype=int64)\n",
            "Dropped Indices: Tensor(\"sequential_2/custom_dropout/Where:0\", shape=(None, 2), dtype=int64)\n",
            "Dropped Indices: Tensor(\"sequential_2/custom_dropout/Where:0\", shape=(None, 2), dtype=int64)\n",
            "Dropped Indices: Tensor(\"sequential_2/custom_dropout/Where:0\", shape=(None, 2), dtype=int64)\n",
            "Dropped Indices: Tensor(\"sequential_2/custom_dropout/Where:0\", shape=(None, 2), dtype=int64)\n",
            " 9/32 [=======>......................] - ETA: 0s - loss: 0.9130Dropped Indices: Tensor(\"sequential_2/custom_dropout/Where:0\", shape=(None, 2), dtype=int64)\n",
            "Dropped Indices: Tensor(\"sequential_2/custom_dropout/Where:0\", shape=(None, 2), dtype=int64)\n",
            "Dropped Indices: Tensor(\"sequential_2/custom_dropout/Where:0\", shape=(None, 2), dtype=int64)\n",
            "Dropped Indices: Tensor(\"sequential_2/custom_dropout/Where:0\", shape=(None, 2), dtype=int64)\n",
            "Dropped Indices: Tensor(\"sequential_2/custom_dropout/Where:0\", shape=(None, 2), dtype=int64)\n",
            "Dropped Indices: Tensor(\"sequential_2/custom_dropout/Where:0\", shape=(None, 2), dtype=int64)\n",
            "Dropped Indices: Tensor(\"sequential_2/custom_dropout/Where:0\", shape=(None, 2), dtype=int64)\n",
            "16/32 [==============>...............] - ETA: 0s - loss: 0.8255Dropped Indices: Tensor(\"sequential_2/custom_dropout/Where:0\", shape=(None, 2), dtype=int64)\n",
            "Dropped Indices: Tensor(\"sequential_2/custom_dropout/Where:0\", shape=(None, 2), dtype=int64)\n",
            "Dropped Indices: Tensor(\"sequential_2/custom_dropout/Where:0\", shape=(None, 2), dtype=int64)\n",
            "Dropped Indices: Tensor(\"sequential_2/custom_dropout/Where:0\", shape=(None, 2), dtype=int64)\n",
            "Dropped Indices: Tensor(\"sequential_2/custom_dropout/Where:0\", shape=(None, 2), dtype=int64)\n",
            "Dropped Indices: Tensor(\"sequential_2/custom_dropout/Where:0\", shape=(None, 2), dtype=int64)\n",
            "22/32 [===================>..........] - ETA: 0s - loss: 0.8259Dropped Indices: Tensor(\"sequential_2/custom_dropout/Where:0\", shape=(None, 2), dtype=int64)\n",
            "Dropped Indices: Tensor(\"sequential_2/custom_dropout/Where:0\", shape=(None, 2), dtype=int64)\n",
            "Dropped Indices: Tensor(\"sequential_2/custom_dropout/Where:0\", shape=(None, 2), dtype=int64)\n",
            "Dropped Indices: Tensor(\"sequential_2/custom_dropout/Where:0\", shape=(None, 2), dtype=int64)\n",
            "Dropped Indices: Tensor(\"sequential_2/custom_dropout/Where:0\", shape=(None, 2), dtype=int64)\n",
            "Dropped Indices: Tensor(\"sequential_2/custom_dropout/Where:0\", shape=(None, 2), dtype=int64)\n",
            "Dropped Indices: Tensor(\"sequential_2/custom_dropout/Where:0\", shape=(None, 2), dtype=int64)\n",
            "29/32 [==========================>...] - ETA: 0s - loss: 0.7947Dropped Indices: Tensor(\"sequential_2/custom_dropout/Where:0\", shape=(None, 2), dtype=int64)\n",
            "Dropped Indices: Tensor(\"sequential_2/custom_dropout/Where:0\", shape=(None, 2), dtype=int64)\n",
            "Dropped Indices: Tensor(\"sequential_2/custom_dropout/Where:0\", shape=(None, 2), dtype=int64)\n",
            "32/32 [==============================] - 0s 9ms/step - loss: 0.7924\n",
            "Epoch 4/5\n",
            "Dropped Indices: Tensor(\"sequential_2/custom_dropout/Where:0\", shape=(None, 2), dtype=int64)\n",
            " 1/32 [..............................] - ETA: 0s - loss: 0.4485Dropped Indices: Tensor(\"sequential_2/custom_dropout/Where:0\", shape=(None, 2), dtype=int64)\n",
            "Dropped Indices: Tensor(\"sequential_2/custom_dropout/Where:0\", shape=(None, 2), dtype=int64)\n",
            "Dropped Indices: Tensor(\"sequential_2/custom_dropout/Where:0\", shape=(None, 2), dtype=int64)\n",
            "Dropped Indices: Tensor(\"sequential_2/custom_dropout/Where:0\", shape=(None, 2), dtype=int64)\n",
            "Dropped Indices: Tensor(\"sequential_2/custom_dropout/Where:0\", shape=(None, 2), dtype=int64)\n",
            "Dropped Indices: Tensor(\"sequential_2/custom_dropout/Where:0\", shape=(None, 2), dtype=int64)\n",
            "Dropped Indices: Tensor(\"sequential_2/custom_dropout/Where:0\", shape=(None, 2), dtype=int64)\n",
            "Dropped Indices: Tensor(\"sequential_2/custom_dropout/Where:0\", shape=(None, 2), dtype=int64)\n",
            " 9/32 [=======>......................] - ETA: 0s - loss: 0.3685Dropped Indices: Tensor(\"sequential_2/custom_dropout/Where:0\", shape=(None, 2), dtype=int64)\n",
            "Dropped Indices: Tensor(\"sequential_2/custom_dropout/Where:0\", shape=(None, 2), dtype=int64)\n",
            "Dropped Indices: Tensor(\"sequential_2/custom_dropout/Where:0\", shape=(None, 2), dtype=int64)\n",
            "Dropped Indices: Tensor(\"sequential_2/custom_dropout/Where:0\", shape=(None, 2), dtype=int64)\n",
            "Dropped Indices: Tensor(\"sequential_2/custom_dropout/Where:0\", shape=(None, 2), dtype=int64)\n",
            "Dropped Indices: Tensor(\"sequential_2/custom_dropout/Where:0\", shape=(None, 2), dtype=int64)\n",
            "Dropped Indices: Tensor(\"sequential_2/custom_dropout/Where:0\", shape=(None, 2), dtype=int64)\n",
            "Dropped Indices: Tensor(\"sequential_2/custom_dropout/Where:0\", shape=(None, 2), dtype=int64)\n",
            "Dropped Indices: Tensor(\"sequential_2/custom_dropout/Where:0\", shape=(None, 2), dtype=int64)\n",
            "18/32 [===============>..............] - ETA: 0s - loss: 0.3898Dropped Indices: Tensor(\"sequential_2/custom_dropout/Where:0\", shape=(None, 2), dtype=int64)\n",
            "Dropped Indices: Tensor(\"sequential_2/custom_dropout/Where:0\", shape=(None, 2), dtype=int64)\n",
            "Dropped Indices: Tensor(\"sequential_2/custom_dropout/Where:0\", shape=(None, 2), dtype=int64)\n",
            "Dropped Indices: Tensor(\"sequential_2/custom_dropout/Where:0\", shape=(None, 2), dtype=int64)\n",
            "Dropped Indices: Tensor(\"sequential_2/custom_dropout/Where:0\", shape=(None, 2), dtype=int64)\n",
            "Dropped Indices: Tensor(\"sequential_2/custom_dropout/Where:0\", shape=(None, 2), dtype=int64)\n",
            "Dropped Indices: Tensor(\"sequential_2/custom_dropout/Where:0\", shape=(None, 2), dtype=int64)\n",
            "Dropped Indices: Tensor(\"sequential_2/custom_dropout/Where:0\", shape=(None, 2), dtype=int64)\n",
            "Dropped Indices: Tensor(\"sequential_2/custom_dropout/Where:0\", shape=(None, 2), dtype=int64)\n",
            "27/32 [========================>.....] - ETA: 0s - loss: 0.4045Dropped Indices: Tensor(\"sequential_2/custom_dropout/Where:0\", shape=(None, 2), dtype=int64)\n",
            "Dropped Indices: Tensor(\"sequential_2/custom_dropout/Where:0\", shape=(None, 2), dtype=int64)\n",
            "Dropped Indices: Tensor(\"sequential_2/custom_dropout/Where:0\", shape=(None, 2), dtype=int64)\n",
            "Dropped Indices: Tensor(\"sequential_2/custom_dropout/Where:0\", shape=(None, 2), dtype=int64)\n",
            "Dropped Indices: Tensor(\"sequential_2/custom_dropout/Where:0\", shape=(None, 2), dtype=int64)\n",
            "32/32 [==============================] - 0s 7ms/step - loss: 0.4010\n",
            "Epoch 5/5\n",
            "Dropped Indices: Tensor(\"sequential_2/custom_dropout/Where:0\", shape=(None, 2), dtype=int64)\n",
            " 1/32 [..............................] - ETA: 0s - loss: 0.2278Dropped Indices: Tensor(\"sequential_2/custom_dropout/Where:0\", shape=(None, 2), dtype=int64)\n",
            "Dropped Indices: Tensor(\"sequential_2/custom_dropout/Where:0\", shape=(None, 2), dtype=int64)\n",
            "Dropped Indices: Tensor(\"sequential_2/custom_dropout/Where:0\", shape=(None, 2), dtype=int64)\n",
            "Dropped Indices: Tensor(\"sequential_2/custom_dropout/Where:0\", shape=(None, 2), dtype=int64)\n",
            "Dropped Indices: Tensor(\"sequential_2/custom_dropout/Where:0\", shape=(None, 2), dtype=int64)\n",
            "Dropped Indices: Tensor(\"sequential_2/custom_dropout/Where:0\", shape=(None, 2), dtype=int64)\n",
            "Dropped Indices: Tensor(\"sequential_2/custom_dropout/Where:0\", shape=(None, 2), dtype=int64)\n",
            " 8/32 [======>.......................] - ETA: 0s - loss: 0.2810Dropped Indices: Tensor(\"sequential_2/custom_dropout/Where:0\", shape=(None, 2), dtype=int64)\n",
            "Dropped Indices: Tensor(\"sequential_2/custom_dropout/Where:0\", shape=(None, 2), dtype=int64)\n",
            "Dropped Indices: Tensor(\"sequential_2/custom_dropout/Where:0\", shape=(None, 2), dtype=int64)\n",
            "Dropped Indices: Tensor(\"sequential_2/custom_dropout/Where:0\", shape=(None, 2), dtype=int64)\n",
            "Dropped Indices: Tensor(\"sequential_2/custom_dropout/Where:0\", shape=(None, 2), dtype=int64)\n",
            "13/32 [===========>..................] - ETA: 0s - loss: 0.2830Dropped Indices: Tensor(\"sequential_2/custom_dropout/Where:0\", shape=(None, 2), dtype=int64)\n",
            "Dropped Indices: Tensor(\"sequential_2/custom_dropout/Where:0\", shape=(None, 2), dtype=int64)\n",
            "Dropped Indices: Tensor(\"sequential_2/custom_dropout/Where:0\", shape=(None, 2), dtype=int64)\n",
            "Dropped Indices: Tensor(\"sequential_2/custom_dropout/Where:0\", shape=(None, 2), dtype=int64)\n",
            "Dropped Indices: Tensor(\"sequential_2/custom_dropout/Where:0\", shape=(None, 2), dtype=int64)\n",
            "Dropped Indices: Tensor(\"sequential_2/custom_dropout/Where:0\", shape=(None, 2), dtype=int64)\n",
            "Dropped Indices: Tensor(\"sequential_2/custom_dropout/Where:0\", shape=(None, 2), dtype=int64)\n",
            "Dropped Indices: Tensor(\"sequential_2/custom_dropout/Where:0\", shape=(None, 2), dtype=int64)\n",
            "21/32 [==================>...........] - ETA: 0s - loss: 0.2966Dropped Indices: Tensor(\"sequential_2/custom_dropout/Where:0\", shape=(None, 2), dtype=int64)\n",
            "Dropped Indices: Tensor(\"sequential_2/custom_dropout/Where:0\", shape=(None, 2), dtype=int64)\n",
            "Dropped Indices: Tensor(\"sequential_2/custom_dropout/Where:0\", shape=(None, 2), dtype=int64)\n",
            "Dropped Indices: Tensor(\"sequential_2/custom_dropout/Where:0\", shape=(None, 2), dtype=int64)\n",
            "Dropped Indices: Tensor(\"sequential_2/custom_dropout/Where:0\", shape=(None, 2), dtype=int64)\n",
            "26/32 [=======================>......] - ETA: 0s - loss: 0.2864Dropped Indices: Tensor(\"sequential_2/custom_dropout/Where:0\", shape=(None, 2), dtype=int64)\n",
            "Dropped Indices: Tensor(\"sequential_2/custom_dropout/Where:0\", shape=(None, 2), dtype=int64)\n",
            "Dropped Indices: Tensor(\"sequential_2/custom_dropout/Where:0\", shape=(None, 2), dtype=int64)\n",
            "Dropped Indices: Tensor(\"sequential_2/custom_dropout/Where:0\", shape=(None, 2), dtype=int64)\n",
            "30/32 [===========================>..] - ETA: 0s - loss: 0.2918Dropped Indices: Tensor(\"sequential_2/custom_dropout/Where:0\", shape=(None, 2), dtype=int64)\n",
            "Dropped Indices: Tensor(\"sequential_2/custom_dropout/Where:0\", shape=(None, 2), dtype=int64)\n",
            "32/32 [==============================] - 0s 9ms/step - loss: 0.2897\n"
          ]
        },
        {
          "output_type": "execute_result",
          "data": {
            "text/plain": [
              "<keras.src.callbacks.History at 0x7c94c0d500a0>"
            ]
          },
          "metadata": {},
          "execution_count": 12
        }
      ]
    }
  ]
}