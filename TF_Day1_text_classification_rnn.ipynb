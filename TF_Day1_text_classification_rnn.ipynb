{
  "cells": [
    {
      "cell_type": "markdown",
      "metadata": {
        "id": "9TnJztDZGw-n"
      },
      "source": [
        "# Text classification with an RNN"
      ]
    },
    {
      "cell_type": "markdown",
      "metadata": {
        "id": "lUWearf0Gw-p"
      },
      "source": [
        "This text classification tutorial trains a [recurrent neural network](https://developers.google.com/machine-learning/glossary/#recurrent_neural_network) on the [IMDB large movie review dataset](http://ai.stanford.edu/~amaas/data/sentiment/) for sentiment analysis."
      ]
    },
    {
      "cell_type": "markdown",
      "metadata": {
        "id": "_2VQo4bajwUU"
      },
      "source": [
        "## Setup"
      ]
    },
    {
      "cell_type": "code",
      "execution_count": null,
      "metadata": {
        "id": "z682XYsrjkY9"
      },
      "outputs": [],
      "source": [
        "import numpy as np\n",
        "\n",
        "import tensorflow_datasets as tfds\n",
        "import tensorflow as tf\n",
        "\n",
        "tfds.disable_progress_bar()"
      ]
    },
    {
      "cell_type": "markdown",
      "metadata": {
        "id": "1rXHa-w9JZhb"
      },
      "source": [
        "Import `matplotlib` and create a helper function to plot graphs:"
      ]
    },
    {
      "cell_type": "code",
      "execution_count": null,
      "metadata": {
        "id": "Mp1Z7P9pYRSK"
      },
      "outputs": [],
      "source": [
        "import matplotlib.pyplot as plt\n",
        "\n",
        "\n",
        "def plot_graphs(history, metric):\n",
        "  plt.plot(history.history[metric])\n",
        "  plt.plot(history.history['val_'+metric], '')\n",
        "  plt.xlabel(\"Epochs\")\n",
        "  plt.ylabel(metric)\n",
        "  plt.legend([metric, 'val_'+metric])"
      ]
    },
    {
      "cell_type": "markdown",
      "metadata": {
        "id": "pRmMubr0jrE2"
      },
      "source": [
        "## Setup input pipeline\n",
        "\n",
        "\n",
        "The IMDB large movie review dataset is a *binary classification* dataset—all the reviews have either a *positive* or *negative* sentiment.\n",
        "\n",
        "Download the dataset using [TFDS](https://www.tensorflow.org/datasets). See the [loading text tutorial](https://www.tensorflow.org/tutorials/load_data/text) for details on how to load this sort of data manually.\n"
      ]
    },
    {
      "cell_type": "code",
      "execution_count": null,
      "metadata": {
        "id": "SHRwRoP2nVHX",
        "colab": {
          "base_uri": "https://localhost:8080/"
        },
        "outputId": "13034fe9-a7c7-4c45-d5b0-1edbbf08debc"
      },
      "outputs": [
        {
          "output_type": "stream",
          "name": "stdout",
          "text": [
            "Downloading and preparing dataset 80.23 MiB (download: 80.23 MiB, generated: Unknown size, total: 80.23 MiB) to /root/tensorflow_datasets/imdb_reviews/plain_text/1.0.0...\n",
            "Dataset imdb_reviews downloaded and prepared to /root/tensorflow_datasets/imdb_reviews/plain_text/1.0.0. Subsequent calls will reuse this data.\n"
          ]
        },
        {
          "output_type": "execute_result",
          "data": {
            "text/plain": [
              "(TensorSpec(shape=(), dtype=tf.string, name=None),\n",
              " TensorSpec(shape=(), dtype=tf.int64, name=None))"
            ]
          },
          "metadata": {},
          "execution_count": 3
        }
      ],
      "source": [
        "dataset, info = tfds.load('imdb_reviews', with_info=True,\n",
        "                          as_supervised=True)\n",
        "train_dataset, test_dataset = dataset['train'], dataset['test']\n",
        "\n",
        "train_dataset.element_spec"
      ]
    },
    {
      "cell_type": "markdown",
      "metadata": {
        "id": "nWA4c2ir7g6p"
      },
      "source": [
        "Initially this returns a dataset of (text, label pairs):"
      ]
    },
    {
      "cell_type": "code",
      "execution_count": null,
      "metadata": {
        "id": "vd4_BGKyurao",
        "colab": {
          "base_uri": "https://localhost:8080/"
        },
        "outputId": "d8328d6c-7d2b-48ed-af32-c25aaebe0bec"
      },
      "outputs": [
        {
          "output_type": "stream",
          "name": "stdout",
          "text": [
            "text:  b\"This was an absolutely terrible movie. Don't be lured in by Christopher Walken or Michael Ironside. Both are great actors, but this must simply be their worst role in history. Even their great acting could not redeem this movie's ridiculous storyline. This movie is an early nineties US propaganda piece. The most pathetic scenes were those when the Columbian rebels were making their cases for revolutions. Maria Conchita Alonso appeared phony, and her pseudo-love affair with Walken was nothing but a pathetic emotional plug in a movie that was devoid of any real meaning. I am disappointed that there are movies like this, ruining actor's like Christopher Walken's good name. I could barely sit through it.\"\n",
            "label:  0\n"
          ]
        }
      ],
      "source": [
        "for example, label in train_dataset.take(1):\n",
        "  print('text: ', example.numpy())\n",
        "  print('label: ', label.numpy())"
      ]
    },
    {
      "cell_type": "markdown",
      "metadata": {
        "id": "z2qVJzcEluH_"
      },
      "source": [
        "Next shuffle the data for training and create batches of these `(text, label)` pairs:"
      ]
    },
    {
      "cell_type": "code",
      "execution_count": null,
      "metadata": {
        "id": "dDsCaZCDYZgm"
      },
      "outputs": [],
      "source": [
        "BUFFER_SIZE = 10000\n",
        "BATCH_SIZE = 64"
      ]
    },
    {
      "cell_type": "code",
      "execution_count": null,
      "metadata": {
        "id": "VznrltNOnUc5"
      },
      "outputs": [],
      "source": [
        "train_dataset = train_dataset.shuffle(BUFFER_SIZE).batch(BATCH_SIZE).prefetch(tf.data.AUTOTUNE)\n",
        "test_dataset = test_dataset.batch(BATCH_SIZE).prefetch(tf.data.AUTOTUNE)"
      ]
    },
    {
      "cell_type": "code",
      "execution_count": null,
      "metadata": {
        "id": "jqkvdcFv41wC",
        "colab": {
          "base_uri": "https://localhost:8080/"
        },
        "outputId": "24204bbd-3c97-4fff-88fb-3c593c3602f8"
      },
      "outputs": [
        {
          "output_type": "stream",
          "name": "stdout",
          "text": [
            "texts:  [b'In the many films I have seen Warren Oates, I have come to a definite conclusion, here is one talented individual. I first saw Mr. Oates back in the 1960\\'s television series called Stoney Burke. From then on, I followed his career closely and felt he was destined for great roles. That happened in 1974, when Sam Peckinpah gave him top billing in a film called \\'Bring Me the Head of Alfredo Garcia.\\' Of course, his biggest claim to fame was his magnificent role in \\'The Wild Bunch\\'. I have always thought he was quite able to bring any character a certain magic, that is until I saw him in this flop. The movie is called \" Chandler \", a tribute to the iron fisted detectives of the 1950\\'s created by Raymond Chandler. Because, the synopsis said it was about a hard nose Private Eye, I was immediately interested. However, I sat patiently through the entire film and found it to be a dull, dis-interesting, slow pace, twisted, confusing saga which if it had a theme or plot must have been left on some dark back room self. Collectively and with some of Hollywood\\'s best supporting stars, such as Alex Dreier, Mitch Ryan, Gordon Pinsent, Charles McGraw, Richard Loo and Scatman Crothers, this movie had enough power to reach Mach five, however, it fizzled on the launchpad and went no where. As a result, one of my favorite actor\\'s got stuck in a poorly made vehicle which never got off the ground. **'\n",
            " b\"I thought this movie was pretty good. Some parts were corny but that's understandable since it was made more than 55 years ago. I thought the best performance in the movie was given by Michele Morgan who played Millie convincingly. Jack Haley is also really good as Mike O'Brien. Even though I'm not a big Frank Sinatra fan, I think he was very good in this movie. If your have a craving for a silly, over the top musical comedy, Higher and Higher is the movie for you.<br /><br />\"\n",
            " b'You\\'ll notice that the chemist, who appears in two scenes and gets to speak, is played by Stephen King. \"Don\\'t give up your day job\" is the standard thing to say, but that\\'s not fair. King acquits himself reasonably well: he\\'s no worse than any other member of the cast, and better than most. The story, on the other hand, is pure rubbish. Please, give up your day job.<br /><br />Never have I seen so many dreadful performances - of which the lead actor\\'s (the LEAD ACTOR\\'S!) is probably the worst - gathered together in the one film. Everyone acts hammily, but not in any entertaining way; they all somehow manage to go over-the-top without expending, or manifesting, energy. I blame screenwriter/director Tom Holland. It can\\'t be that ALL the actors are REALLY this bad. What are the odds against that? Admittedly, I\\'ve never heard of any of them before, but still, I don\\'t think I could walk into a talent agency and walk out with this many bad performers if I tried: ONE actor, despite my best efforts, would turn out to have talent. So what\\'s more likely - that Tom Holland rolled a dozen consecutive snake-eyes, or that he wrote a lousy script and then directed it poorly? That would also explain why actors are bad in direct proportion to their prominence in the script. The more direction an actor got, the worse he performed. (\"You want me to bend over like a hunchback, talk from the back of my throat, show all my teeth, and look bored, all at the same time? Okay...\")<br /><br />This theory is confirmed by the fact that Holland undeniably managed to co-write a lousy script. Several writers here have commented on the fact that Billy Halleck is not a likeable character, but that\\'s a misleading way of putting it. He\\'s not a knowable character. All we find out about him before the supernatural stuff starts happening is that he\\'s fat, and that all he can think about is food. (\"All I can think about is food,\" he tells us, helpfully.) And in the end...<br /><br />(Sigh) I suppose I ought insert a spoiler warning here...<br /><br />In the end he becomes evil. Why? I can only shrug. Perhaps he\\'s under some kind of enchantment. Yeah, that\\'s probably it. By \"evil\" perhaps I mean \"inexplicable\" - it\\'s not so much badness as a socially undesirable suspension of ordinary means-end psychology. Anyway, his actions at the end make no sense, nobody\\'s actions make much sense, and this is despite the fact that the characters do little but explain their motivation for the benefit of the audience.<br /><br />By the way, here\\'s my nominee for hammiest line/delivery: \"I don\\'t think you\\'d like it. IN FACT...\" [big dramatic pause] \"...I don\\'t think you\\'d like it at all.\"']\n",
            "\n",
            "labels:  [0 1 0]\n"
          ]
        }
      ],
      "source": [
        "for example, label in train_dataset.take(1):\n",
        "  print('texts: ', example.numpy()[:3])\n",
        "  print()\n",
        "  print('labels: ', label.numpy()[:3])"
      ]
    },
    {
      "cell_type": "markdown",
      "metadata": {
        "id": "s5eWCo88voPY"
      },
      "source": [
        "## Create the text encoder"
      ]
    },
    {
      "cell_type": "markdown",
      "metadata": {
        "id": "TFevcItw15P_"
      },
      "source": [
        "The raw text loaded by `tfds` needs to be processed before it can be used in a model. The simplest way to process text for training is using the `TextVectorization` layer. This layer has many capabilities, but this tutorial sticks to the default behavior.\n",
        "\n",
        "Create the layer, and pass the dataset's text to the layer's `.adapt` method:"
      ]
    },
    {
      "cell_type": "code",
      "execution_count": null,
      "metadata": {
        "id": "uC25Lu1Yvuqy"
      },
      "outputs": [],
      "source": [
        "VOCAB_SIZE = 1000\n",
        "encoder = tf.keras.layers.TextVectorization(\n",
        "    max_tokens=VOCAB_SIZE)\n",
        "encoder.adapt(train_dataset.map(lambda text, label: text))"
      ]
    },
    {
      "cell_type": "markdown",
      "metadata": {
        "id": "IuQzVBbe3Ldu"
      },
      "source": [
        "The `.adapt` method sets the layer's vocabulary. Here are the first 20 tokens. After the padding and unknown tokens they're sorted by frequency:"
      ]
    },
    {
      "cell_type": "code",
      "execution_count": null,
      "metadata": {
        "id": "tBoyjjWg0Ac9",
        "colab": {
          "base_uri": "https://localhost:8080/"
        },
        "outputId": "2a75f599-ad5d-495e-f418-35e6241717aa"
      },
      "outputs": [
        {
          "output_type": "execute_result",
          "data": {
            "text/plain": [
              "array(['', '[UNK]', 'the', 'and', 'a', 'of', 'to', 'is', 'in', 'it', 'i',\n",
              "       'this', 'that', 'br', 'was', 'as', 'for', 'with', 'movie', 'but'],\n",
              "      dtype='<U14')"
            ]
          },
          "metadata": {},
          "execution_count": 9
        }
      ],
      "source": [
        "vocab = np.array(encoder.get_vocabulary())\n",
        "vocab[:20]"
      ]
    },
    {
      "cell_type": "markdown",
      "metadata": {
        "id": "mjId5pua3jHQ"
      },
      "source": [
        "Once the vocabulary is set, the layer can encode text into indices. The tensors of indices are 0-padded to the longest sequence in the batch (unless you set a fixed `output_sequence_length`):"
      ]
    },
    {
      "cell_type": "code",
      "execution_count": null,
      "metadata": {
        "id": "RGc7C9WiwRWs",
        "colab": {
          "base_uri": "https://localhost:8080/"
        },
        "outputId": "4ba26dd5-3980-4e41-cd30-b863554bb751"
      },
      "outputs": [
        {
          "output_type": "execute_result",
          "data": {
            "text/plain": [
              "array([[  8,   2, 106, ...,   0,   0,   0],\n",
              "       [ 10, 199,  11, ...,   0,   0,   0],\n",
              "       [478,   1,  12, ...,   0,   0,   0]])"
            ]
          },
          "metadata": {},
          "execution_count": 10
        }
      ],
      "source": [
        "encoded_example = encoder(example)[:3].numpy()\n",
        "encoded_example"
      ]
    },
    {
      "cell_type": "markdown",
      "metadata": {
        "id": "F5cjz0bS39IN"
      },
      "source": [
        "With the default settings, the process is not completely reversible. There are three main reasons for that:\n",
        "\n",
        "1. The default value for `preprocessing.TextVectorization`'s `standardize` argument is `\"lower_and_strip_punctuation\"`.\n",
        "2. The limited vocabulary size and lack of character-based fallback results in some unknown tokens."
      ]
    },
    {
      "cell_type": "code",
      "execution_count": null,
      "metadata": {
        "id": "N_tD0QY5wXaK",
        "colab": {
          "base_uri": "https://localhost:8080/"
        },
        "outputId": "5feaaccb-cbeb-4f06-9c72-cc32b626d797"
      },
      "outputs": [
        {
          "output_type": "stream",
          "name": "stdout",
          "text": [
            "Original:  b'In the many films I have seen Warren Oates, I have come to a definite conclusion, here is one talented individual. I first saw Mr. Oates back in the 1960\\'s television series called Stoney Burke. From then on, I followed his career closely and felt he was destined for great roles. That happened in 1974, when Sam Peckinpah gave him top billing in a film called \\'Bring Me the Head of Alfredo Garcia.\\' Of course, his biggest claim to fame was his magnificent role in \\'The Wild Bunch\\'. I have always thought he was quite able to bring any character a certain magic, that is until I saw him in this flop. The movie is called \" Chandler \", a tribute to the iron fisted detectives of the 1950\\'s created by Raymond Chandler. Because, the synopsis said it was about a hard nose Private Eye, I was immediately interested. However, I sat patiently through the entire film and found it to be a dull, dis-interesting, slow pace, twisted, confusing saga which if it had a theme or plot must have been left on some dark back room self. Collectively and with some of Hollywood\\'s best supporting stars, such as Alex Dreier, Mitch Ryan, Gordon Pinsent, Charles McGraw, Richard Loo and Scatman Crothers, this movie had enough power to reach Mach five, however, it fizzled on the launchpad and went no where. As a result, one of my favorite actor\\'s got stuck in a poorly made vehicle which never got off the ground. **'\n",
            "Round-trip:  in the many films i have seen [UNK] [UNK] i have come to a [UNK] [UNK] here is one [UNK] [UNK] i first saw mr [UNK] back in the [UNK] television series called [UNK] [UNK] from then on i [UNK] his career [UNK] and felt he was [UNK] for great roles that happened in [UNK] when [UNK] [UNK] gave him top [UNK] in a film called bring me the head of [UNK] [UNK] of course his [UNK] [UNK] to [UNK] was his [UNK] role in the [UNK] bunch i have always thought he was quite able to bring any character a certain [UNK] that is until i saw him in this [UNK] the movie is called [UNK] a [UNK] to the [UNK] [UNK] [UNK] of the [UNK] [UNK] by [UNK] [UNK] because the [UNK] said it was about a hard [UNK] [UNK] eye i was [UNK] interested however i [UNK] [UNK] through the entire film and found it to be a dull [UNK] slow [UNK] [UNK] [UNK] [UNK] which if it had a theme or plot must have been left on some dark back room [UNK] [UNK] and with some of [UNK] best supporting stars such as [UNK] [UNK] [UNK] [UNK] [UNK] [UNK] [UNK] [UNK] richard [UNK] and [UNK] [UNK] this movie had enough power to [UNK] [UNK] five however it [UNK] on the [UNK] and went no where as a result one of my favorite actors got [UNK] in a poorly made [UNK] which never got off the [UNK]                                                                                                                                                                                                                                                                                                                                                                                                                                                                                                                                                                                                                                                                                                                                               \n",
            "\n",
            "Original:  b\"I thought this movie was pretty good. Some parts were corny but that's understandable since it was made more than 55 years ago. I thought the best performance in the movie was given by Michele Morgan who played Millie convincingly. Jack Haley is also really good as Mike O'Brien. Even though I'm not a big Frank Sinatra fan, I think he was very good in this movie. If your have a craving for a silly, over the top musical comedy, Higher and Higher is the movie for you.<br /><br />\"\n",
            "Round-trip:  i thought this movie was pretty good some parts were [UNK] but thats [UNK] since it was made more than [UNK] years ago i thought the best performance in the movie was given by [UNK] [UNK] who played [UNK] [UNK] jack [UNK] is also really good as [UNK] [UNK] even though im not a big [UNK] [UNK] fan i think he was very good in this movie if your have a [UNK] for a silly over the top musical comedy [UNK] and [UNK] is the movie for [UNK] br                                                                                                                                                                                                                                                                                                                                                                                                                                                                                                                                                                                                                                                                                                                                                                                                                                                                                                                \n",
            "\n",
            "Original:  b'You\\'ll notice that the chemist, who appears in two scenes and gets to speak, is played by Stephen King. \"Don\\'t give up your day job\" is the standard thing to say, but that\\'s not fair. King acquits himself reasonably well: he\\'s no worse than any other member of the cast, and better than most. The story, on the other hand, is pure rubbish. Please, give up your day job.<br /><br />Never have I seen so many dreadful performances - of which the lead actor\\'s (the LEAD ACTOR\\'S!) is probably the worst - gathered together in the one film. Everyone acts hammily, but not in any entertaining way; they all somehow manage to go over-the-top without expending, or manifesting, energy. I blame screenwriter/director Tom Holland. It can\\'t be that ALL the actors are REALLY this bad. What are the odds against that? Admittedly, I\\'ve never heard of any of them before, but still, I don\\'t think I could walk into a talent agency and walk out with this many bad performers if I tried: ONE actor, despite my best efforts, would turn out to have talent. So what\\'s more likely - that Tom Holland rolled a dozen consecutive snake-eyes, or that he wrote a lousy script and then directed it poorly? That would also explain why actors are bad in direct proportion to their prominence in the script. The more direction an actor got, the worse he performed. (\"You want me to bend over like a hunchback, talk from the back of my throat, show all my teeth, and look bored, all at the same time? Okay...\")<br /><br />This theory is confirmed by the fact that Holland undeniably managed to co-write a lousy script. Several writers here have commented on the fact that Billy Halleck is not a likeable character, but that\\'s a misleading way of putting it. He\\'s not a knowable character. All we find out about him before the supernatural stuff starts happening is that he\\'s fat, and that all he can think about is food. (\"All I can think about is food,\" he tells us, helpfully.) And in the end...<br /><br />(Sigh) I suppose I ought insert a spoiler warning here...<br /><br />In the end he becomes evil. Why? I can only shrug. Perhaps he\\'s under some kind of enchantment. Yeah, that\\'s probably it. By \"evil\" perhaps I mean \"inexplicable\" - it\\'s not so much badness as a socially undesirable suspension of ordinary means-end psychology. Anyway, his actions at the end make no sense, nobody\\'s actions make much sense, and this is despite the fact that the characters do little but explain their motivation for the benefit of the audience.<br /><br />By the way, here\\'s my nominee for hammiest line/delivery: \"I don\\'t think you\\'d like it. IN FACT...\" [big dramatic pause] \"...I don\\'t think you\\'d like it at all.\"'\n",
            "Round-trip:  youll [UNK] that the [UNK] who appears in two scenes and gets to [UNK] is played by [UNK] king dont give up your day job is the [UNK] thing to say but thats not [UNK] king [UNK] himself [UNK] well hes no worse than any other [UNK] of the cast and better than most the story on the other hand is [UNK] [UNK] please give up your day [UNK] br never have i seen so many [UNK] performances of which the lead actors the lead actors is probably the worst [UNK] together in the one film everyone [UNK] [UNK] but not in any entertaining way they all somehow [UNK] to go [UNK] without [UNK] or [UNK] [UNK] i [UNK] [UNK] tom [UNK] it cant be that all the actors are really this bad what are the [UNK] against that [UNK] ive never heard of any of them before but still i dont think i could [UNK] into a talent [UNK] and [UNK] out with this many bad [UNK] if i tried one actor despite my best [UNK] would turn out to have talent so whats more [UNK] that tom [UNK] [UNK] a [UNK] [UNK] [UNK] or that he [UNK] a [UNK] script and then directed it poorly that would also [UNK] why actors are bad in [UNK] [UNK] to their [UNK] in the script the more direction an actor got the worse he [UNK] you want me to [UNK] over like a [UNK] talk from the back of my [UNK] show all my [UNK] and look [UNK] all at the same time [UNK] br this [UNK] is [UNK] by the fact that [UNK] [UNK] [UNK] to [UNK] a [UNK] script several writers here have [UNK] on the fact that [UNK] [UNK] is not a [UNK] character but thats a [UNK] way of [UNK] it hes not a [UNK] character all we find out about him before the [UNK] stuff starts [UNK] is that hes [UNK] and that all he can think about is [UNK] all i can think about is [UNK] he tells us [UNK] and in the [UNK] br [UNK] i [UNK] i [UNK] [UNK] a [UNK] [UNK] [UNK] br in the end he becomes evil why i can only [UNK] perhaps hes under some kind of [UNK] [UNK] thats probably it by evil perhaps i mean [UNK] its not so much [UNK] as a [UNK] [UNK] [UNK] of [UNK] [UNK] [UNK] anyway his [UNK] at the end make no sense [UNK] [UNK] make much sense and this is despite the fact that the characters do little but [UNK] their [UNK] for the [UNK] of the [UNK] br by the way [UNK] my [UNK] for [UNK] [UNK] i dont think [UNK] like it in fact big dramatic [UNK] i dont think [UNK] like it at all                                                                                                                                                                                                                                                                                                                                                                                                                                                                                                                      \n",
            "\n"
          ]
        }
      ],
      "source": [
        "for n in range(3):\n",
        "  print(\"Original: \", example[n].numpy())\n",
        "  print(\"Round-trip: \", \" \".join(vocab[encoded_example[n]]))\n",
        "  print()"
      ]
    },
    {
      "cell_type": "markdown",
      "metadata": {
        "id": "bjUqGVBxGw-t"
      },
      "source": [
        "## Create the model"
      ]
    },
    {
      "cell_type": "markdown",
      "metadata": {
        "id": "W7zsmInBOCPO"
      },
      "source": [
        "![A drawing of the information flow in the model](https://github.com/tensorflow/text/blob/master/docs/tutorials/images/bidirectional.png?raw=1)"
      ]
    },
    {
      "cell_type": "markdown",
      "metadata": {
        "id": "bgs6nnSTGw-t"
      },
      "source": [
        "Above is a diagram of the model.\n",
        "\n",
        "1. This model can be build as a `tf.keras.Sequential`.\n",
        "\n",
        "2. The first layer is the `encoder`, which converts the text to a sequence of token indices.\n",
        "\n",
        "3. After the encoder is an embedding layer. An embedding layer stores one vector per word. When called, it converts the sequences of word indices to sequences of vectors. These vectors are trainable. After training (on enough data), words with similar meanings often have similar vectors.\n",
        "\n",
        "  This index-lookup is much more efficient than the equivalent operation of passing a one-hot encoded vector through a `tf.keras.layers.Dense` layer.\n",
        "\n",
        "4. A recurrent neural network (RNN) processes sequence input by iterating through the elements. RNNs pass the outputs from one timestep to their input on the next timestep.\n",
        "\n",
        "  The `tf.keras.layers.Bidirectional` wrapper can also be used with an RNN layer. This propagates the input forward and backwards through the RNN layer and then concatenates the final output.\n",
        "\n",
        "  * The main advantage of a bidirectional RNN is that the signal from the beginning of the input doesn't need to be processed all the way through every timestep to affect the output.  \n",
        "\n",
        "  * The main disadvantage of a bidirectional RNN is that you can't efficiently stream predictions as words are being added to the end.\n",
        "\n",
        "5. After the RNN has converted the sequence to a single vector the two `layers.Dense` do some final processing, and convert from this vector representation to a single logit as the classification output.\n"
      ]
    },
    {
      "cell_type": "markdown",
      "metadata": {
        "id": "V4fodCI7soQi"
      },
      "source": [
        "The code to implement this is below:"
      ]
    },
    {
      "cell_type": "code",
      "execution_count": null,
      "metadata": {
        "id": "LwfoBkmRYcP3"
      },
      "outputs": [],
      "source": [
        "model = tf.keras.Sequential([\n",
        "    encoder,\n",
        "    tf.keras.layers.Embedding(\n",
        "        input_dim=len(encoder.get_vocabulary()),\n",
        "        output_dim=64,\n",
        "        # Use masking to handle the variable sequence lengths\n",
        "        mask_zero=True),\n",
        "    tf.keras.layers.Bidirectional(tf.keras.layers.LSTM(64)),\n",
        "    tf.keras.layers.Dense(64, activation='relu'),\n",
        "    tf.keras.layers.Dense(1)\n",
        "])"
      ]
    },
    {
      "cell_type": "markdown",
      "metadata": {
        "id": "QIGmIGkkouUb"
      },
      "source": [
        "Please note that Keras sequential model is used here since all the layers in the model only have single input and produce single output. In case you want to use stateful RNN layer, you might want to build your model with Keras functional API or model subclassing so that you can retrieve and reuse the RNN layer states. Please check [Keras RNN guide](https://www.tensorflow.org/guide/keras/rnn#rnn_state_reuse) for more details."
      ]
    },
    {
      "cell_type": "markdown",
      "metadata": {
        "id": "kF-PsCk1LwjY"
      },
      "source": [
        "The embedding layer [uses masking](https://www.tensorflow.org/guide/keras/masking_and_padding) to handle the varying sequence-lengths. All the layers after the `Embedding` support masking:"
      ]
    },
    {
      "cell_type": "code",
      "execution_count": null,
      "metadata": {
        "id": "87a8-CwfKebw",
        "colab": {
          "base_uri": "https://localhost:8080/"
        },
        "outputId": "b5df42a6-5693-4229-8244-b821b188bd50"
      },
      "outputs": [
        {
          "output_type": "stream",
          "name": "stdout",
          "text": [
            "[False, True, True, True, True]\n"
          ]
        }
      ],
      "source": [
        "print([layer.supports_masking for layer in model.layers])"
      ]
    },
    {
      "cell_type": "markdown",
      "metadata": {
        "id": "ZlS0iaUIWLpI"
      },
      "source": [
        "To confirm that this works as expected, evaluate a sentence twice. First, alone so there's no padding to mask:"
      ]
    },
    {
      "cell_type": "code",
      "execution_count": null,
      "metadata": {
        "id": "O41gw3KfWHus",
        "colab": {
          "base_uri": "https://localhost:8080/"
        },
        "outputId": "b3f733c4-aa3b-4412-c5b8-74e437337d29"
      },
      "outputs": [
        {
          "output_type": "stream",
          "name": "stdout",
          "text": [
            "1/1 [==============================] - 6s 6s/step\n",
            "[0.00092617]\n"
          ]
        }
      ],
      "source": [
        "# predict on a sample text without padding.\n",
        "\n",
        "sample_text = ('The movie was cool. The animation and the graphics '\n",
        "               'were out of this world. I would recommend this movie.')\n",
        "predictions = model.predict(np.array([sample_text]))\n",
        "print(predictions[0])"
      ]
    },
    {
      "cell_type": "markdown",
      "metadata": {
        "id": "K0VQmGnEWcuz"
      },
      "source": [
        "Now, evaluate it again in a batch with a longer sentence. The result should be identical:"
      ]
    },
    {
      "cell_type": "code",
      "execution_count": null,
      "metadata": {
        "id": "UIgpuTeFNDzq",
        "colab": {
          "base_uri": "https://localhost:8080/"
        },
        "outputId": "5a73a3ca-8391-4ae9-8517-777cdabc5e22"
      },
      "outputs": [
        {
          "output_type": "stream",
          "name": "stdout",
          "text": [
            "1/1 [==============================] - 0s 73ms/step\n",
            "[0.00092617]\n"
          ]
        }
      ],
      "source": [
        "# predict on a sample text with padding\n",
        "\n",
        "padding = \"the \" * 2000\n",
        "predictions = model.predict(np.array([sample_text, padding]))\n",
        "print(predictions[0])"
      ]
    },
    {
      "cell_type": "markdown",
      "metadata": {
        "id": "sRI776ZcH3Tf"
      },
      "source": [
        "Compile the Keras model to configure the training process:"
      ]
    },
    {
      "cell_type": "code",
      "execution_count": null,
      "metadata": {
        "id": "kj2xei41YZjC"
      },
      "outputs": [],
      "source": [
        "model.compile(loss=tf.keras.losses.BinaryCrossentropy(from_logits=True),\n",
        "              optimizer=tf.keras.optimizers.Adam(1e-4),\n",
        "              metrics=['accuracy'])"
      ]
    },
    {
      "cell_type": "markdown",
      "metadata": {
        "id": "zIwH3nto596k"
      },
      "source": [
        "## Train the model"
      ]
    },
    {
      "cell_type": "code",
      "execution_count": null,
      "metadata": {
        "id": "hw86wWS4YgR2",
        "colab": {
          "base_uri": "https://localhost:8080/"
        },
        "outputId": "08850c0e-731b-46b2-c72c-a0a7378623a1"
      },
      "outputs": [
        {
          "output_type": "stream",
          "name": "stdout",
          "text": [
            "Epoch 1/10\n",
            "391/391 [==============================] - 51s 105ms/step - loss: 0.6334 - accuracy: 0.5718 - val_loss: 0.4809 - val_accuracy: 0.7417\n",
            "Epoch 2/10\n",
            "391/391 [==============================] - 26s 65ms/step - loss: 0.4253 - accuracy: 0.8006 - val_loss: 0.3910 - val_accuracy: 0.8260\n",
            "Epoch 3/10\n",
            "391/391 [==============================] - 25s 63ms/step - loss: 0.3709 - accuracy: 0.8344 - val_loss: 0.3549 - val_accuracy: 0.8380\n",
            "Epoch 4/10\n",
            "391/391 [==============================] - 24s 62ms/step - loss: 0.3407 - accuracy: 0.8514 - val_loss: 0.3442 - val_accuracy: 0.8479\n",
            "Epoch 5/10\n",
            "391/391 [==============================] - 25s 63ms/step - loss: 0.3185 - accuracy: 0.8632 - val_loss: 0.3293 - val_accuracy: 0.8562\n",
            "Epoch 6/10\n",
            "391/391 [==============================] - 24s 61ms/step - loss: 0.3170 - accuracy: 0.8620 - val_loss: 0.3319 - val_accuracy: 0.8432\n",
            "Epoch 7/10\n",
            "391/391 [==============================] - 23s 59ms/step - loss: 0.3076 - accuracy: 0.8682 - val_loss: 0.3274 - val_accuracy: 0.8599\n",
            "Epoch 8/10\n",
            "391/391 [==============================] - 23s 59ms/step - loss: 0.3047 - accuracy: 0.8705 - val_loss: 0.3258 - val_accuracy: 0.8589\n",
            "Epoch 9/10\n",
            "391/391 [==============================] - 24s 60ms/step - loss: 0.3017 - accuracy: 0.8722 - val_loss: 0.3232 - val_accuracy: 0.8531\n",
            "Epoch 10/10\n",
            "391/391 [==============================] - 24s 61ms/step - loss: 0.2991 - accuracy: 0.8722 - val_loss: 0.3361 - val_accuracy: 0.8615\n"
          ]
        }
      ],
      "source": [
        "history = model.fit(train_dataset, epochs=10,\n",
        "                    validation_data=test_dataset,\n",
        "                    validation_steps=30)"
      ]
    },
    {
      "cell_type": "code",
      "execution_count": null,
      "metadata": {
        "id": "BaNbXi43YgUT",
        "colab": {
          "base_uri": "https://localhost:8080/"
        },
        "outputId": "e93d5aff-9f45-4301-cf40-3f2f07e66cee"
      },
      "outputs": [
        {
          "output_type": "stream",
          "name": "stdout",
          "text": [
            "391/391 [==============================] - 11s 28ms/step - loss: 0.3358 - accuracy: 0.8612\n",
            "Test Loss: 0.33576568961143494\n",
            "Test Accuracy: 0.861240029335022\n"
          ]
        }
      ],
      "source": [
        "test_loss, test_acc = model.evaluate(test_dataset)\n",
        "\n",
        "print('Test Loss:', test_loss)\n",
        "print('Test Accuracy:', test_acc)"
      ]
    },
    {
      "cell_type": "code",
      "execution_count": null,
      "metadata": {
        "id": "OZmwt_mzaQJk",
        "colab": {
          "base_uri": "https://localhost:8080/",
          "height": 539
        },
        "outputId": "2073e81b-fe08-4a70-a02c-fc6f0b6be38e"
      },
      "outputs": [
        {
          "output_type": "execute_result",
          "data": {
            "text/plain": [
              "(0.0, 0.6501522913575173)"
            ]
          },
          "metadata": {},
          "execution_count": 19
        },
        {
          "output_type": "display_data",
          "data": {
            "text/plain": [
              "<Figure size 1600x800 with 2 Axes>"
            ],
            "image/png": "[encoded data removed]"
          },
          "metadata": {}
        }
      ],
      "source": [
        "plt.figure(figsize=(16, 8))\n",
        "plt.subplot(1, 2, 1)\n",
        "plot_graphs(history, 'accuracy')\n",
        "plt.ylim(None, 1)\n",
        "plt.subplot(1, 2, 2)\n",
        "plot_graphs(history, 'loss')\n",
        "plt.ylim(0, None)"
      ]
    },
    {
      "cell_type": "markdown",
      "metadata": {
        "id": "DwSE_386uhxD"
      },
      "source": [
        "Run a prediction on a new sentence:\n",
        "\n",
        "If the prediction is >= 0.0, it is positive else it is negative."
      ]
    },
    {
      "cell_type": "code",
      "execution_count": null,
      "metadata": {
        "id": "ZXgfQSgRW6zU",
        "colab": {
          "base_uri": "https://localhost:8080/"
        },
        "outputId": "4ea2af27-f9ed-4073-f6c4-68b40b104c4e"
      },
      "outputs": [
        {
          "output_type": "stream",
          "name": "stdout",
          "text": [
            "1/1 [==============================] - 0s 30ms/step\n",
            "Sentiments is Negetive\n"
          ]
        }
      ],
      "source": [
        "sample_text = ('The movie was cool. The animation and the graphics '\n",
        "               'were out of this world. I would recommend this movie.')\n",
        "sample_text=(\"The Product is too bad I will not recommend to use\" )\n",
        "predictions = model.predict(np.array([sample_text]))\n",
        "predictions\n",
        "if predictions[0]>.5:\n",
        "  print(\"Sentiments is Possitive\")\n",
        "else:\n",
        "  print(\"Sentiments is Negetive\")"
      ]
    },
    {
      "cell_type": "markdown",
      "source": [
        "# New Section"
      ],
      "metadata": {
        "id": "Vh1VnRdEAvpS"
      }
    },
    {
      "cell_type": "markdown",
      "metadata": {
        "id": "7g1evcaRpTKm"
      },
      "source": [
        "## Stack two or more LSTM layers\n",
        "\n",
        "Keras recurrent layers have two available modes that are controlled by the `return_sequences` constructor argument:\n",
        "\n",
        "* If `False` it returns only the last output for each input sequence (a 2D tensor of shape (batch_size, output_features)). This is the default, used in the previous model.\n",
        "\n",
        "* If `True` the full sequences of successive outputs for each timestep is returned (a 3D tensor of shape `(batch_size, timesteps, output_features)`).\n",
        "\n",
        "Here is what the flow of information looks like with `return_sequences=True`:\n",
        "\n",
        "![layered_bidirectional](https://github.com/tensorflow/text/blob/master/docs/tutorials/images/layered_bidirectional.png?raw=1)"
      ]
    },
    {
      "cell_type": "markdown",
      "metadata": {
        "id": "wbSClCrG1z8l"
      },
      "source": [
        "The interesting thing about using an `RNN` with `return_sequences=True` is that the output still has 3-axes, like the input, so it can be passed to another RNN layer, like this:"
      ]
    },
    {
      "cell_type": "code",
      "execution_count": null,
      "metadata": {
        "id": "jo1jjO3vn0jo"
      },
      "outputs": [],
      "source": [
        "model = tf.keras.Sequential([\n",
        "    encoder,\n",
        "    tf.keras.layers.Embedding(len(encoder.get_vocabulary()), 64, mask_zero=True),\n",
        "    tf.keras.layers.Bidirectional(tf.keras.layers.LSTM(64,  return_sequences=True)),\n",
        "    tf.keras.layers.Bidirectional(tf.keras.layers.LSTM(32)),\n",
        "    tf.keras.layers.Dense(64, activation='relu'),\n",
        "    tf.keras.layers.Dropout(0.5),\n",
        "    tf.keras.layers.Dense(1)\n",
        "])"
      ]
    },
    {
      "cell_type": "code",
      "execution_count": null,
      "metadata": {
        "id": "hEPV5jVGp-is"
      },
      "outputs": [],
      "source": [
        "model.compile(loss=tf.keras.losses.BinaryCrossentropy(from_logits=True),\n",
        "              optimizer=tf.keras.optimizers.Adam(1e-4),\n",
        "              metrics=['accuracy'])"
      ]
    },
    {
      "cell_type": "code",
      "execution_count": null,
      "metadata": {
        "id": "LeSE-YjdqAeN"
      },
      "outputs": [],
      "source": [
        "history = model.fit(train_dataset, epochs=10,\n",
        "                    validation_data=test_dataset,\n",
        "                    validation_steps=30)"
      ]
    },
    {
      "cell_type": "code",
      "execution_count": null,
      "metadata": {
        "id": "_LdwilM1qPM3"
      },
      "outputs": [],
      "source": [
        "test_loss, test_acc = model.evaluate(test_dataset)\n",
        "\n",
        "print('Test Loss:', test_loss)\n",
        "print('Test Accuracy:', test_acc)"
      ]
    },
    {
      "cell_type": "code",
      "execution_count": null,
      "metadata": {
        "id": "ykUKnAoqbycW"
      },
      "outputs": [],
      "source": [
        "# predict on a sample text without padding.\n",
        "\n",
        "sample_text = ('The movie was not good. The animation and the graphics '\n",
        "               'were terrible. I would not recommend this movie.')\n",
        "predictions = model.predict(np.array([sample_text]))\n",
        "print(predictions)"
      ]
    },
    {
      "cell_type": "code",
      "execution_count": null,
      "metadata": {
        "id": "_YYub0EDtwCu"
      },
      "outputs": [],
      "source": [
        "plt.figure(figsize=(16, 6))\n",
        "plt.subplot(1, 2, 1)\n",
        "plot_graphs(history, 'accuracy')\n",
        "plt.subplot(1, 2, 2)\n",
        "plot_graphs(history, 'loss')"
      ]
    },
    {
      "cell_type": "markdown",
      "metadata": {
        "id": "9xvpE3BaGw_V"
      },
      "source": [
        "Check out other existing recurrent layers such as [GRU layers](https://www.tensorflow.org/api_docs/python/tf/keras/layers/GRU).\n",
        "\n",
        "If you're interested in building custom RNNs, see the [Keras RNN Guide](https://www.tensorflow.org/guide/keras/rnn).\n"
      ]
    }
  ],
  "metadata": {
    "accelerator": "GPU",
    "colab": {
      "provenance": [],
      "toc_visible": true
    },
    "kernelspec": {
      "display_name": "Python 3",
      "name": "python3"
    }
  },
  "nbformat": 4,
  "nbformat_minor": 0
}